{
 "cells": [
  {
   "attachments": {},
   "cell_type": "markdown",
   "metadata": {},
   "source": [
    "# Assignment 1\n",
    "## RSA signatures task (2)\n",
    "### Malthe Faurschou Tøttrup au644177\n",
    "\n",
    "---"
   ]
  },
  {
   "attachments": {},
   "cell_type": "markdown",
   "metadata": {},
   "source": [
    "### Problem context:\n",
    "\n",
    "In this task we want to show the grade 12 to a server. The professor has made a server that can give grades automatically. Once a grade is given it can be sendt back to the server in form of a cookie to be verified. The issue is that the server will never give a grade that is higher than 10. Therefore, we need to construct this grade message ourselves.\n",
    "\n",
    "Since the source code for the server is given, we can see what the message the server expects for the grade 12 looks like. However, the server uses RSA to verify messages, and therefore we cannot simply send this message to the server without a valid signature to go with it.\n",
    "\n",
    "The server provides a service for signing messages. However, this service is smart enough to detect messages containing grade information such as '12', and will reject the request. Therefore it is neccessary to bypass this message filter.\n",
    "\n",
    "---\n",
    "### The attack: \n",
    "\n",
    "We want to send message $m$ with valid signature $s$ to the server in form of a cookie. However, $s$ cannot be obtained directly and will need to be forged from two different signatures $s_1$ and $s_2$. These will need to be obtained through the signing of two randomly looking messsages $m_1$ and $m_2$. However, the following relationship must be true: \n",
    "\n",
    "$m = m_{1}m_{2} \\space \\texttt{mod} \\space N$\n",
    "\n",
    "We can obtain signatures $s_1$ and $s_2$ by sending $m_1$ and $m_2$ to the signature generating service. Once we have $s_1$ and $s_2$ we can calculate $s$ as follows:\n",
    "\n",
    "$s = s_{1}s_{2} \\space \\texttt{mod} \\space N$\n",
    "\n",
    "Once we have $s$ we can convince the server that our message $m$ is valid and we did indeed get a 12. \n"
   ]
  },
  {
   "cell_type": "code",
   "execution_count": 49,
   "metadata": {},
   "outputs": [],
   "source": [
    "# import libraries\n",
    "\n",
    "import requests\n",
    "import json\n",
    "import random\n",
    "import base64"
   ]
  },
  {
   "cell_type": "code",
   "execution_count": 50,
   "metadata": {},
   "outputs": [],
   "source": [
    "srv_url = 'http://localhost:5000' # server url\n",
    "\n",
    "# get public key and N from server\n",
    "\n",
    "res = requests.get(srv_url + '/pk')\n",
    "j = json.loads(res.text)\n",
    "N = j['N']\n",
    "e = j['e']\n",
    "\n",
    "# compute private key\n",
    "# d = pow(e, -1, phi(N))"
   ]
  },
  {
   "cell_type": "code",
   "execution_count": 51,
   "metadata": {},
   "outputs": [],
   "source": [
    "# figureing out string to hex to int to hex to string gymnstics \n",
    "\n",
    "m = 'You got a 12 because you are an excellent student! :)'\n",
    "\n",
    "m_hex = m.encode('utf-8').hex() # convert to hex\n",
    "\n",
    "# print(m_hex)\n",
    "\n",
    "m_string = bytes.fromhex(m_hex) # convert back to string\n",
    "\n",
    "# print(m_string) \n",
    "\n",
    "m_int = int.from_bytes(m_string, 'big') # convert to int\n",
    "\n",
    "# print(m_int)\n",
    "\n",
    "m_int_hex = m_int.to_bytes((m_int.bit_length() + 7) // 8, 'big').hex() # convert back to hex\n",
    "\n",
    "# print(m_int_hex)\n",
    "\n",
    "m_int_string = bytes.fromhex(m_int_hex) # convert back to string\n",
    "\n",
    "# print(m_int_string)\n"
   ]
  },
  {
   "attachments": {},
   "cell_type": "markdown",
   "metadata": {},
   "source": [
    "Now we need to make two seemingly random messages $m_1$ and $m_2$. We start by picking a random integer $m_1$ that divides $m$. Then we can calculate $m_2$ as follows:\n",
    "\n",
    "$m_2 = m/m_1 \\space \\texttt{mod} \\space N$\n",
    "\n",
    "Afterward, we verify that the messages have the following relationship:\n",
    "\n",
    "$m_1m_2 = m \\space \\texttt{mod} \\space N$"
   ]
  },
  {
   "cell_type": "code",
   "execution_count": 52,
   "metadata": {},
   "outputs": [
    {
     "name": "stdout",
     "output_type": "stream",
     "text": [
      "works\n"
     ]
    }
   ],
   "source": [
    "# generate random looking messages m1 and m2\n",
    "\n",
    "m1 = random.randint(1, 100) # pick random starting number between 1 and 100\n",
    "\n",
    "# loop until m1 divides m_int\n",
    "while(m_int % m1 != 0):\n",
    "    m1 += 1\n",
    "\n",
    "# calculate m2\n",
    "m2 = m_int // m1 % N\n",
    "\n",
    "# check if m1 * m2 is equal to m_int % N \n",
    "if (m1 * m2) == m_int % N:\n",
    "    print('works')\n",
    "else:\n",
    "    print('doesnt work')"
   ]
  },
  {
   "attachments": {},
   "cell_type": "markdown",
   "metadata": {},
   "source": [
    "For the next step, we need to get signatures $s_1$ and $s_2$ for $m_1$ and $m_2$ respectively. To this end, we can send the messages to the server signing service. If the messages are not caught by the message filter the server will return the signatures. "
   ]
  },
  {
   "cell_type": "code",
   "execution_count": 53,
   "metadata": {},
   "outputs": [],
   "source": [
    "# sign m1 and m2\n",
    "\n",
    "m1_hex = m1.to_bytes((m1.bit_length() + 7) // 8, 'big').hex() # convert to hex\n",
    "\n",
    "m1_res = requests.get(f'{srv_url}/sign_random_document_for_students/{m1_hex}')\n",
    "\n",
    "m1_j = json.loads(m1_res.text)\n",
    "s1 = m1_j['signature']\n",
    "\n",
    "\n",
    "m2_hex = m2.to_bytes((m2.bit_length() + 7) // 8, 'big').hex() # convert to hex\n",
    "\n",
    "m2_res = requests.get(f'{srv_url}/sign_random_document_for_students/{m2_hex}')\n",
    "\n",
    "m2_j = json.loads(m2_res.text)\n",
    "s2 = m2_j['signature']\n",
    "\n",
    "# check signatures\n",
    "# print(str(m1_j['signature']))\n",
    "# print(str(m2_j['signature']))"
   ]
  },
  {
   "attachments": {},
   "cell_type": "markdown",
   "metadata": {},
   "source": [
    "Now we can forge the signature $s$ from $s_1$ and $s_2$ by using the formula:\n",
    "\n",
    "$s = s_{1}s_{2} \\space \\texttt{mod} \\space N$"
   ]
  },
  {
   "cell_type": "code",
   "execution_count": 54,
   "metadata": {},
   "outputs": [],
   "source": [
    "# compute signature for m\n",
    "s1_int = int.from_bytes(bytes.fromhex(s1), 'big')\n",
    "s2_int = int.from_bytes(bytes.fromhex(s2), 'big')\n",
    "\n",
    "s = (s1_int * s2_int) % N\n",
    "\n",
    "s_hex = s.to_bytes((s.bit_length() + 7) // 8, 'big').hex() # convert to hex\n",
    "\n",
    "# print(s_hex)"
   ]
  },
  {
   "attachments": {},
   "cell_type": "markdown",
   "metadata": {},
   "source": [
    "Now with a valid signature $s$ for the message $m$, we should be able to convince the server that we got the grade 12. The server expects the signature and message encoded using base64 and packaged in a cookie. "
   ]
  },
  {
   "cell_type": "code",
   "execution_count": 55,
   "metadata": {},
   "outputs": [
    {
     "name": "stdout",
     "output_type": "stream",
     "text": [
      "<p>You got a 12 because you are an excellent student! :)</p>\n"
     ]
    }
   ],
   "source": [
    "# send the grade message and signature\n",
    "\n",
    "grade = base64.b64encode(json.dumps({'msg': m_hex, 'signature': s_hex}).encode()).decode() # thanks CoPilot\n",
    "\n",
    "res = requests.get(f'{srv_url}/grade', cookies={'grade': grade})\n",
    "\n",
    "print(res.text) # celebration!"
   ]
  },
  {
   "attachments": {},
   "cell_type": "markdown",
   "metadata": {},
   "source": [
    "Finally we can get a quote!"
   ]
  },
  {
   "cell_type": "code",
   "execution_count": 56,
   "metadata": {},
   "outputs": [
    {
     "data": {
      "text/plain": [
       "'<quote>\\n<redacted> for testing purposes\\n</quote>'"
      ]
     },
     "execution_count": 56,
     "metadata": {},
     "output_type": "execute_result"
    }
   ],
   "source": [
    "# recieve a quote\n",
    "\n",
    "res = requests.get(f'{srv_url}/quote', cookies={'grade': grade})\n",
    "\n",
    "res.text # hmm interesting quote "
   ]
  }
 ],
 "metadata": {
  "kernelspec": {
   "display_name": "netsec",
   "language": "python",
   "name": "python3"
  },
  "language_info": {
   "codemirror_mode": {
    "name": "ipython",
    "version": 3
   },
   "file_extension": ".py",
   "mimetype": "text/x-python",
   "name": "python",
   "nbconvert_exporter": "python",
   "pygments_lexer": "ipython3",
   "version": "3.10.9"
  },
  "orig_nbformat": 4,
  "vscode": {
   "interpreter": {
    "hash": "965db81801b21ba7dc4c9685f596a42b49f128a4f56c74bc71bf76c87ae8c4d8"
   }
  }
 },
 "nbformat": 4,
 "nbformat_minor": 2
}
